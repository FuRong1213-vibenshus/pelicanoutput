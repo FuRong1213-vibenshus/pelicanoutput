{
 "cells": [
  {
   "cell_type": "code",
   "execution_count": 7,
   "id": "e4c44104",
   "metadata": {},
   "outputs": [
    {
     "name": "stdout",
     "output_type": "stream",
     "text": [
      "Hello world!\n"
     ]
    }
   ],
   "source": [
    "Hello = \"Hello world!\"\n",
    "print(Hello)"
   ]
  },
  {
   "cell_type": "code",
   "execution_count": 11,
   "id": "fc6c8f38",
   "metadata": {},
   "outputs": [
    {
     "name": "stdout",
     "output_type": "stream",
     "text": [
      "100\n"
     ]
    }
   ],
   "source": [
    "Hello = \"Hello Python World!\"\n",
    "Hello = 10\n",
    "print(Hello*Hello)"
   ]
  },
  {
   "cell_type": "code",
   "execution_count": 12,
   "id": "ab0b7c04",
   "metadata": {},
   "outputs": [
    {
     "name": "stdout",
     "output_type": "stream",
     "text": [
      "ADA LOVELACE\n"
     ]
    }
   ],
   "source": [
    "name=\"Ada Lovelace\"\n",
    "print(name.upper())"
   ]
  },
  {
   "cell_type": "code",
   "execution_count": 16,
   "id": "f39d1b92",
   "metadata": {},
   "outputs": [
    {
     "name": "stdout",
     "output_type": "stream",
     "text": [
      "adas last name islovelace\n"
     ]
    }
   ],
   "source": [
    "first_name='Rong'\n",
    "last_name='Fu'\n",
    "full_name=f'{first_name}s last name is {last_name}'\n",
    "print(full_name)"
   ]
  }
 ],
 "metadata": {
  "kernelspec": {
   "display_name": "Python 3 (ipykernel)",
   "language": "python",
   "name": "python3"
  },
  "language_info": {
   "codemirror_mode": {
    "name": "ipython",
    "version": 3
   },
   "file_extension": ".py",
   "mimetype": "text/x-python",
   "name": "python",
   "nbconvert_exporter": "python",
   "pygments_lexer": "ipython3",
   "version": "3.12.3"
  }
 },
 "nbformat": 4,
 "nbformat_minor": 5
}
